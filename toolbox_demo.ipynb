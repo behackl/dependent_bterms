{
 "cells": [
  {
   "cell_type": "markdown",
   "id": "9086ab74-ff6f-426e-8930-7ae1b606c155",
   "metadata": {},
   "source": [
    "# Toolbox for Asymptotics with Explicit Error Bounds"
   ]
  },
  {
   "cell_type": "code",
   "execution_count": null,
   "id": "14372689-d5ad-426f-b959-d051ca3b2e53",
   "metadata": {},
   "outputs": [],
   "source": [
    "import dependent_bterms as dbt"
   ]
  },
  {
   "cell_type": "code",
   "execution_count": null,
   "id": "1e3e651e-9760-482c-bfc5-a3154acd88e5",
   "metadata": {},
   "outputs": [],
   "source": [
    "%display typeset"
   ]
  },
  {
   "cell_type": "markdown",
   "id": "7b3ad651-ed83-491e-bf12-d4277fbcd990",
   "metadata": {},
   "source": [
    "## Creating a special `AsymptoticRing`\n",
    "\n",
    "See [the documentation of SageMath's module on asymptotic expansions](https://doc.sagemath.org/html/en/reference/asymptotic/sage/rings/asymptotic/asymptotic_ring.html) for a primer on the `AsymptoticRing`.\n",
    "\n",
    "Assume that we want to carry out computations in a setting where we have a variable $n\\to\\infty$, as well as a dependent variable $k = k(n)$ for which we know $n^{\\alpha} \\leq k \\leq n^{\\beta}$ for some $0\\leq\\alpha\\leq\\beta$. Concretely, let us consider $1 = n^0 \\leq k\\leq n^{4/7}$.\n",
    "\n",
    "**Note:** This implementation currently only supports monomial asymptotic growth of the independent variable. Trying to use it with more intricate growth groups other than $n^{\\mathbb{Q}}$ will likely result in unwanted behavior."
   ]
  },
  {
   "cell_type": "code",
   "execution_count": null,
   "id": "ad853bea-c7ad-43fd-9ed8-0c6a62782894",
   "metadata": {},
   "outputs": [],
   "source": [
    "AR, n, k = dbt.AsymptoticRingWithDependentVariable('n^QQ', 'k', 0, 4/7, default_prec=5)"
   ]
  },
  {
   "cell_type": "markdown",
   "id": "8427d2ac-fa8d-4482-baaf-a9d3cfc08dea",
   "metadata": {},
   "source": [
    "Technically, `k` is a plain symbolic variable -- the instantiated Asymptotic Ring uses the Symbolic Ring as its coefficient ring:"
   ]
  },
  {
   "cell_type": "code",
   "execution_count": null,
   "id": "e0bf9bf7-bf96-44ef-beda-27e33533bcde",
   "metadata": {},
   "outputs": [],
   "source": [
    "AR"
   ]
  },
  {
   "cell_type": "code",
   "execution_count": null,
   "id": "ead465bc-41f8-4188-9b97-5707a51525cc",
   "metadata": {},
   "outputs": [],
   "source": [
    "k in SR"
   ]
  },
  {
   "cell_type": "markdown",
   "id": "bde8805f-79c6-47ce-8106-fc458ae486bd",
   "metadata": {},
   "source": [
    "## Arithmetic with the dependent variable\n",
    "\n",
    "Arithmetic with the expansions from our special Asymptotic Rign works *as usual*:"
   ]
  },
  {
   "cell_type": "code",
   "execution_count": null,
   "id": "82c7154d-c435-42b2-a6ec-2502c210e4cd",
   "metadata": {},
   "outputs": [],
   "source": [
    "(1 + 3*n) * (4*n^(-7/3) + 42/n + 1)"
   ]
  },
  {
   "cell_type": "code",
   "execution_count": null,
   "id": "2cddbe0d-954d-440e-88ae-a3106f7ec6e9",
   "metadata": {},
   "outputs": [],
   "source": [
    "prod((1 + n^(-j)) for j in srange(1, 10)) * (1 + O(n^(-10)))"
   ]
  },
  {
   "cell_type": "code",
   "execution_count": null,
   "id": "67c2dfce-34cc-44c8-aa05-f5913f478bbd",
   "metadata": {},
   "outputs": [],
   "source": [
    "n/(n - 1)"
   ]
  },
  {
   "cell_type": "markdown",
   "id": "a9b6e0ea-6520-4a50-87ca-ae21d64c9fe4",
   "metadata": {},
   "source": [
    "We can also simply use the dependent variable."
   ]
  },
  {
   "cell_type": "code",
   "execution_count": null,
   "id": "cc95d7a3-6bbd-4332-872b-ea1f51f8e933",
   "metadata": {},
   "outputs": [],
   "source": [
    "k*n^2 + O(n^(3/2)) + k^3*n"
   ]
  },
  {
   "cell_type": "markdown",
   "id": "c114cac4-1e0e-4e32-985a-e10a2494361c",
   "metadata": {},
   "source": [
    "Notice that the term order is now constructed with respect to the highest potential growth of a summand \n",
    "(i.e., if $k = k(n)$ were to assume its upper bound). Turning the summands into O-Terms reveals the\n",
    "implicit upper bound:"
   ]
  },
  {
   "cell_type": "code",
   "execution_count": null,
   "id": "f6b90d67-2b91-4d02-954f-028ccbfeffd3",
   "metadata": {},
   "outputs": [],
   "source": [
    "O(k*n^2), O(k^3*n)"
   ]
  },
  {
   "cell_type": "markdown",
   "id": "882fef0b-0959-49d0-8df3-a6837ab23afa",
   "metadata": {},
   "source": [
    "Automatic expansions work too:"
   ]
  },
  {
   "cell_type": "code",
   "execution_count": null,
   "id": "0b5491c5-5580-462d-b694-ec025abb7077",
   "metadata": {},
   "outputs": [],
   "source": [
    "auto_expansion = exp((1 + k)/n)\n",
    "auto_expansion"
   ]
  },
  {
   "cell_type": "markdown",
   "id": "63068238-4b68-4833-b1f9-79eca6665a55",
   "metadata": {},
   "source": [
    "Note that the error term, $O(n^{-15/7})$, would be able to absorb some parts of the exact terms, after expanding the powers of $(k+1)$. This is not done automatically, but can easily be triggered via a utility function from our toolbox:"
   ]
  },
  {
   "cell_type": "code",
   "execution_count": null,
   "id": "2f39f0e4-67e8-44b7-8e97-1335023e9330",
   "metadata": {},
   "outputs": [],
   "source": [
    "dbt.simplify_expansion(auto_expansion)"
   ]
  },
  {
   "cell_type": "markdown",
   "id": "c75519af-baab-4af7-814d-13f229bb1d55",
   "metadata": {},
   "source": [
    "Now only the certified lower-order terms remain."
   ]
  },
  {
   "cell_type": "code",
   "execution_count": null,
   "id": "de9e0750-26ce-4b03-b310-0df65297c5a5",
   "metadata": {},
   "outputs": [],
   "source": []
  }
 ],
 "metadata": {
  "kernelspec": {
   "display_name": "SageMath 10.3.beta8",
   "language": "sage",
   "name": "sagemath"
  },
  "language_info": {
   "codemirror_mode": {
    "name": "ipython",
    "version": 3
   },
   "file_extension": ".py",
   "mimetype": "text/x-python",
   "name": "python",
   "nbconvert_exporter": "python",
   "pygments_lexer": "ipython3",
   "version": "3.10.12"
  }
 },
 "nbformat": 4,
 "nbformat_minor": 5
}
